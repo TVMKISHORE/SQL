{
 "cells": [
  {
   "cell_type": "code",
   "execution_count": 9,
   "metadata": {},
   "outputs": [
    {
     "name": "stdout",
     "output_type": "stream",
     "text": [
      "The sql extension is already loaded. To reload it, use:\n",
      "  %reload_ext sql\n"
     ]
    }
   ],
   "source": [
    "#https://www.datacamp.com/community/tutorials/sql-interface-within-jupyterlab\n",
    "#https://pypi.org/project/ipython-sql/\n",
    "#https://trvrm.github.io/sql-magic.html\n",
    "%load_ext sql\n",
    "import pandas as pd"
   ]
  },
  {
   "cell_type": "code",
   "execution_count": 10,
   "metadata": {},
   "outputs": [
    {
     "data": {
      "text/plain": [
       "'Connected: @College.db'"
      ]
     },
     "execution_count": 10,
     "metadata": {},
     "output_type": "execute_result"
    }
   ],
   "source": [
    "#Use this for in memory processing \n",
    "#%%sql sqlite://\n",
    "#Connecting to a specific database\n",
    "%sql sqlite:///College.db     "
   ]
  },
  {
   "cell_type": "code",
   "execution_count": 52,
   "metadata": {},
   "outputs": [
    {
     "name": "stdout",
     "output_type": "stream",
     "text": [
      " * sqlite:///College.db\n",
      "Done.\n"
     ]
    }
   ],
   "source": [
    "result = %sql SELECT * FROM Apply"
   ]
  },
  {
   "cell_type": "code",
   "execution_count": 38,
   "metadata": {},
   "outputs": [],
   "source": [
    "Apply=result.DataFrame() #to convert as a data fraem\n",
    "result.csv('test.csv')  # To save as a csv file"
   ]
  },
  {
   "cell_type": "code",
   "execution_count": 39,
   "metadata": {},
   "outputs": [
    {
     "data": {
      "text/html": [
       "<div>\n",
       "<style scoped>\n",
       "    .dataframe tbody tr th:only-of-type {\n",
       "        vertical-align: middle;\n",
       "    }\n",
       "\n",
       "    .dataframe tbody tr th {\n",
       "        vertical-align: top;\n",
       "    }\n",
       "\n",
       "    .dataframe thead th {\n",
       "        text-align: right;\n",
       "    }\n",
       "</style>\n",
       "<table border=\"1\" class=\"dataframe\">\n",
       "  <thead>\n",
       "    <tr style=\"text-align: right;\">\n",
       "      <th></th>\n",
       "      <th>sID</th>\n",
       "      <th>cName</th>\n",
       "      <th>major</th>\n",
       "      <th>decision</th>\n",
       "    </tr>\n",
       "  </thead>\n",
       "  <tbody>\n",
       "    <tr>\n",
       "      <th>0</th>\n",
       "      <td>123</td>\n",
       "      <td>Stanford</td>\n",
       "      <td>CS</td>\n",
       "      <td>Y</td>\n",
       "    </tr>\n",
       "    <tr>\n",
       "      <th>1</th>\n",
       "      <td>123</td>\n",
       "      <td>Stanford</td>\n",
       "      <td>EE</td>\n",
       "      <td>N</td>\n",
       "    </tr>\n",
       "    <tr>\n",
       "      <th>2</th>\n",
       "      <td>123</td>\n",
       "      <td>Berkeley</td>\n",
       "      <td>CS</td>\n",
       "      <td>Y</td>\n",
       "    </tr>\n",
       "    <tr>\n",
       "      <th>3</th>\n",
       "      <td>123</td>\n",
       "      <td>Cornell</td>\n",
       "      <td>EE</td>\n",
       "      <td>Y</td>\n",
       "    </tr>\n",
       "    <tr>\n",
       "      <th>4</th>\n",
       "      <td>234</td>\n",
       "      <td>Berkeley</td>\n",
       "      <td>biology</td>\n",
       "      <td>N</td>\n",
       "    </tr>\n",
       "  </tbody>\n",
       "</table>\n",
       "</div>"
      ],
      "text/plain": [
       "   sID     cName    major decision\n",
       "0  123  Stanford       CS        Y\n",
       "1  123  Stanford       EE        N\n",
       "2  123  Berkeley       CS        Y\n",
       "3  123   Cornell       EE        Y\n",
       "4  234  Berkeley  biology        N"
      ]
     },
     "execution_count": 39,
     "metadata": {},
     "output_type": "execute_result"
    }
   ],
   "source": [
    "Apply.head()"
   ]
  },
  {
   "cell_type": "code",
   "execution_count": 49,
   "metadata": {},
   "outputs": [
    {
     "name": "stdout",
     "output_type": "stream",
     "text": [
      " * sqlite:///College.db\n",
      "Done.\n"
     ]
    },
    {
     "data": {
      "text/html": [
       "<table>\n",
       "    <tr>\n",
       "        <th>cName</th>\n",
       "        <th>state</th>\n",
       "        <th>enrollment</th>\n",
       "    </tr>\n",
       "    <tr>\n",
       "        <td>Stanford</td>\n",
       "        <td>CA</td>\n",
       "        <td>15000</td>\n",
       "    </tr>\n",
       "    <tr>\n",
       "        <td>Berkeley</td>\n",
       "        <td>CA</td>\n",
       "        <td>36000</td>\n",
       "    </tr>\n",
       "    <tr>\n",
       "        <td>MIT</td>\n",
       "        <td>MA</td>\n",
       "        <td>10000</td>\n",
       "    </tr>\n",
       "    <tr>\n",
       "        <td>Cornell</td>\n",
       "        <td>NY</td>\n",
       "        <td>21000</td>\n",
       "    </tr>\n",
       "</table>"
      ],
      "text/plain": [
       "[('Stanford', 'CA', 15000),\n",
       " ('Berkeley', 'CA', 36000),\n",
       " ('MIT', 'MA', 10000),\n",
       " ('Cornell', 'NY', 21000)]"
      ]
     },
     "execution_count": 49,
     "metadata": {},
     "output_type": "execute_result"
    }
   ],
   "source": [
    "%%sql\n",
    "select * from College"
   ]
  }
 ],
 "metadata": {
  "kernelspec": {
   "display_name": "Python 3",
   "language": "python",
   "name": "python3"
  },
  "language_info": {
   "codemirror_mode": {
    "name": "ipython",
    "version": 3
   },
   "file_extension": ".py",
   "mimetype": "text/x-python",
   "name": "python",
   "nbconvert_exporter": "python",
   "pygments_lexer": "ipython3",
   "version": "3.6.2"
  }
 },
 "nbformat": 4,
 "nbformat_minor": 2
}
