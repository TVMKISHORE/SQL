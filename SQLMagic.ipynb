{
 "cells": [
  {
   "cell_type": "code",
   "execution_count": 24,
   "metadata": {},
   "outputs": [
    {
     "name": "stdout",
     "output_type": "stream",
     "text": [
      "The sql extension is already loaded. To reload it, use:\n",
      "  %reload_ext sql\n"
     ]
    }
   ],
   "source": [
    "#https://www.datacamp.com/community/tutorials/sql-interface-within-jupyterlab\n",
    "#https://pypi.org/project/ipython-sql/\n",
    "#https://trvrm.github.io/sql-magic.html\n",
    "%load_ext sql"
   ]
  },
  {
   "cell_type": "code",
   "execution_count": 25,
   "metadata": {},
   "outputs": [
    {
     "data": {
      "text/plain": [
       "'Connected: @College.db'"
      ]
     },
     "execution_count": 25,
     "metadata": {},
     "output_type": "execute_result"
    }
   ],
   "source": [
    "#Use this for in memory processing \n",
    "#%%sql sqlite://\n",
    "#Connecting to a specific database\n",
    "%sql sqlite:///College.db     "
   ]
  },
  {
   "cell_type": "code",
   "execution_count": 26,
   "metadata": {},
   "outputs": [
    {
     "name": "stdout",
     "output_type": "stream",
     "text": [
      " * sqlite:///College.db\n",
      "Done.\n"
     ]
    },
    {
     "data": {
      "text/html": [
       "<table>\n",
       "    <tr>\n",
       "        <th>sID</th>\n",
       "        <th>cName</th>\n",
       "        <th>major</th>\n",
       "        <th>decision</th>\n",
       "    </tr>\n",
       "    <tr>\n",
       "        <td>123</td>\n",
       "        <td>Stanford</td>\n",
       "        <td>CS</td>\n",
       "        <td>Y</td>\n",
       "    </tr>\n",
       "    <tr>\n",
       "        <td>123</td>\n",
       "        <td>Stanford</td>\n",
       "        <td>EE</td>\n",
       "        <td>N</td>\n",
       "    </tr>\n",
       "    <tr>\n",
       "        <td>123</td>\n",
       "        <td>Berkeley</td>\n",
       "        <td>CS</td>\n",
       "        <td>Y</td>\n",
       "    </tr>\n",
       "    <tr>\n",
       "        <td>123</td>\n",
       "        <td>Cornell</td>\n",
       "        <td>EE</td>\n",
       "        <td>Y</td>\n",
       "    </tr>\n",
       "    <tr>\n",
       "        <td>234</td>\n",
       "        <td>Berkeley</td>\n",
       "        <td>biology</td>\n",
       "        <td>N</td>\n",
       "    </tr>\n",
       "    <tr>\n",
       "        <td>345</td>\n",
       "        <td>MIT</td>\n",
       "        <td>bioengineering</td>\n",
       "        <td>Y</td>\n",
       "    </tr>\n",
       "    <tr>\n",
       "        <td>345</td>\n",
       "        <td>Cornell</td>\n",
       "        <td>bioengineering</td>\n",
       "        <td>N</td>\n",
       "    </tr>\n",
       "    <tr>\n",
       "        <td>345</td>\n",
       "        <td>Cornell</td>\n",
       "        <td>CS</td>\n",
       "        <td>Y</td>\n",
       "    </tr>\n",
       "    <tr>\n",
       "        <td>345</td>\n",
       "        <td>Cornell</td>\n",
       "        <td>EE</td>\n",
       "        <td>N</td>\n",
       "    </tr>\n",
       "    <tr>\n",
       "        <td>678</td>\n",
       "        <td>Stanford</td>\n",
       "        <td>history</td>\n",
       "        <td>Y</td>\n",
       "    </tr>\n",
       "    <tr>\n",
       "        <td>987</td>\n",
       "        <td>Stanford</td>\n",
       "        <td>CS</td>\n",
       "        <td>Y</td>\n",
       "    </tr>\n",
       "    <tr>\n",
       "        <td>987</td>\n",
       "        <td>Berkeley</td>\n",
       "        <td>CS</td>\n",
       "        <td>Y</td>\n",
       "    </tr>\n",
       "    <tr>\n",
       "        <td>876</td>\n",
       "        <td>Stanford</td>\n",
       "        <td>CS</td>\n",
       "        <td>N</td>\n",
       "    </tr>\n",
       "    <tr>\n",
       "        <td>876</td>\n",
       "        <td>MIT</td>\n",
       "        <td>biology</td>\n",
       "        <td>Y</td>\n",
       "    </tr>\n",
       "    <tr>\n",
       "        <td>876</td>\n",
       "        <td>MIT</td>\n",
       "        <td>marine biology</td>\n",
       "        <td>N</td>\n",
       "    </tr>\n",
       "    <tr>\n",
       "        <td>765</td>\n",
       "        <td>Stanford</td>\n",
       "        <td>history</td>\n",
       "        <td>Y</td>\n",
       "    </tr>\n",
       "    <tr>\n",
       "        <td>765</td>\n",
       "        <td>Cornell</td>\n",
       "        <td>history</td>\n",
       "        <td>N</td>\n",
       "    </tr>\n",
       "    <tr>\n",
       "        <td>765</td>\n",
       "        <td>Cornell</td>\n",
       "        <td>psychology</td>\n",
       "        <td>Y</td>\n",
       "    </tr>\n",
       "    <tr>\n",
       "        <td>543</td>\n",
       "        <td>MIT</td>\n",
       "        <td>CS</td>\n",
       "        <td>N</td>\n",
       "    </tr>\n",
       "</table>"
      ],
      "text/plain": [
       "[(123, 'Stanford', 'CS', 'Y'),\n",
       " (123, 'Stanford', 'EE', 'N'),\n",
       " (123, 'Berkeley', 'CS', 'Y'),\n",
       " (123, 'Cornell', 'EE', 'Y'),\n",
       " (234, 'Berkeley', 'biology', 'N'),\n",
       " (345, 'MIT', 'bioengineering', 'Y'),\n",
       " (345, 'Cornell', 'bioengineering', 'N'),\n",
       " (345, 'Cornell', 'CS', 'Y'),\n",
       " (345, 'Cornell', 'EE', 'N'),\n",
       " (678, 'Stanford', 'history', 'Y'),\n",
       " (987, 'Stanford', 'CS', 'Y'),\n",
       " (987, 'Berkeley', 'CS', 'Y'),\n",
       " (876, 'Stanford', 'CS', 'N'),\n",
       " (876, 'MIT', 'biology', 'Y'),\n",
       " (876, 'MIT', 'marine biology', 'N'),\n",
       " (765, 'Stanford', 'history', 'Y'),\n",
       " (765, 'Cornell', 'history', 'N'),\n",
       " (765, 'Cornell', 'psychology', 'Y'),\n",
       " (543, 'MIT', 'CS', 'N')]"
      ]
     },
     "execution_count": 26,
     "metadata": {},
     "output_type": "execute_result"
    }
   ],
   "source": [
    "%%sql\n",
    "SELECT * FROM Apply"
   ]
  },
  {
   "cell_type": "code",
   "execution_count": 30,
   "metadata": {},
   "outputs": [
    {
     "name": "stdout",
     "output_type": "stream",
     "text": [
      " * sqlite:///College.db\n",
      "(sqlite3.OperationalError) near \"pd\": syntax error\n",
      "[SQL: pd.read_sql(select * from College)]\n",
      "(Background on this error at: http://sqlalche.me/e/e3q8)\n"
     ]
    }
   ],
   "source": [
    "%%sql\n",
    "pd.read_sql(select * from College)"
   ]
  },
  {
   "cell_type": "code",
   "execution_count": null,
   "metadata": {},
   "outputs": [],
   "source": []
  }
 ],
 "metadata": {
  "kernelspec": {
   "display_name": "Python 3",
   "language": "python",
   "name": "python3"
  },
  "language_info": {
   "codemirror_mode": {
    "name": "ipython",
    "version": 3
   },
   "file_extension": ".py",
   "mimetype": "text/x-python",
   "name": "python",
   "nbconvert_exporter": "python",
   "pygments_lexer": "ipython3",
   "version": "3.6.2"
  }
 },
 "nbformat": 4,
 "nbformat_minor": 2
}
