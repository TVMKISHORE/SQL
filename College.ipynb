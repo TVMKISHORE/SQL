{
 "cells": [
  {
   "cell_type": "code",
   "execution_count": 1,
   "metadata": {},
   "outputs": [],
   "source": [
    "%load_ext sql"
   ]
  },
  {
   "cell_type": "code",
   "execution_count": 2,
   "metadata": {},
   "outputs": [
    {
     "data": {
      "text/plain": [
       "'Connected: @College.db'"
      ]
     },
     "execution_count": 2,
     "metadata": {},
     "output_type": "execute_result"
    }
   ],
   "source": [
    "#Connecting to a specific database\n",
    "%sql sqlite:///College.db  "
   ]
  },
  {
   "cell_type": "code",
   "execution_count": null,
   "metadata": {},
   "outputs": [],
   "source": [
    "#----------------------------------------------------------------------\n",
    "#Sub queries in where clause\n",
    "#----------------------------------------------------------------------\n",
    "#Exist, all, Any\n",
    "\n",
    "#1)Colleges within same state"
   ]
  },
  {
   "cell_type": "code",
   "execution_count": 3,
   "metadata": {},
   "outputs": [
    {
     "name": "stdout",
     "output_type": "stream",
     "text": [
      " * sqlite:///College.db\n",
      "Done.\n"
     ]
    },
    {
     "data": {
      "text/html": [
       "<table>\n",
       "    <tr>\n",
       "        <th>cName</th>\n",
       "        <th>state</th>\n",
       "    </tr>\n",
       "    <tr>\n",
       "        <td>Stanford</td>\n",
       "        <td>CA</td>\n",
       "    </tr>\n",
       "    <tr>\n",
       "        <td>Berkeley</td>\n",
       "        <td>CA</td>\n",
       "    </tr>\n",
       "</table>"
      ],
      "text/plain": [
       "[('Stanford', 'CA'), ('Berkeley', 'CA')]"
      ]
     },
     "execution_count": 3,
     "metadata": {},
     "output_type": "execute_result"
    }
   ],
   "source": [
    "%%sql\n",
    "select cName, state from College c1\n",
    "where exists (select * from College c2 \n",
    "\t      where c2.state=c1.state and c1.cName<>c2.cName);"
   ]
  },
  {
   "cell_type": "code",
   "execution_count": 4,
   "metadata": {},
   "outputs": [],
   "source": [
    "#2)Who has hightest enrollment?"
   ]
  },
  {
   "cell_type": "code",
   "execution_count": 5,
   "metadata": {},
   "outputs": [
    {
     "name": "stdout",
     "output_type": "stream",
     "text": [
      " * sqlite:///College.db\n",
      "Done.\n"
     ]
    },
    {
     "data": {
      "text/html": [
       "<table>\n",
       "    <tr>\n",
       "        <th>cName</th>\n",
       "    </tr>\n",
       "    <tr>\n",
       "        <td>Berkeley</td>\n",
       "    </tr>\n",
       "</table>"
      ],
      "text/plain": [
       "[('Berkeley',)]"
      ]
     },
     "execution_count": 5,
     "metadata": {},
     "output_type": "execute_result"
    }
   ],
   "source": [
    "%%sql\n",
    "select cName from College c1\n",
    "   \twhere not exists (select * from college c2 where c2.enrollment > c1.enrollment)"
   ]
  },
  {
   "cell_type": "code",
   "execution_count": 18,
   "metadata": {},
   "outputs": [
    {
     "name": "stdout",
     "output_type": "stream",
     "text": [
      " * sqlite:///College.db\n",
      "(sqlite3.OperationalError) near \"all\": syntax error\n",
      "[SQL: select sName, GPA from Student where GPA >=all (select GPA from Student)]\n",
      "(Background on this error at: http://sqlalche.me/e/e3q8)\n"
     ]
    }
   ],
   "source": [
    "%%sql\n",
    "select sName, GPA from Student where GPA >=all (select GPA from Student)"
   ]
  },
  {
   "cell_type": "code",
   "execution_count": null,
   "metadata": {},
   "outputs": [],
   "source": [
    "#3) College with highest enrollment "
   ]
  },
  {
   "cell_type": "code",
   "execution_count": 25,
   "metadata": {},
   "outputs": [
    {
     "name": "stdout",
     "output_type": "stream",
     "text": [
      " * sqlite:///College.db\n",
      "(sqlite3.OperationalError) near \"All\": syntax error\n",
      "[SQL: select cName from College s1\n",
      "          where enrollment > All (select enrollment from College s2 where s2.cName <> s1.cName)]\n",
      "(Background on this error at: http://sqlalche.me/e/e3q8)\n"
     ]
    }
   ],
   "source": [
    "%%sql\n",
    "select cName from College s1\n",
    "          where enrollment > All (select enrollment from College s2 where s2.cName <> s1.cName)"
   ]
  },
  {
   "cell_type": "code",
   "execution_count": 26,
   "metadata": {},
   "outputs": [
    {
     "name": "stdout",
     "output_type": "stream",
     "text": [
      " * sqlite:///College.db\n",
      "(sqlite3.OperationalError) near \"select\": syntax error\n",
      "[SQL: select cName from College s1\n",
      "          where not enrollment <= any (select enrollment from College s2 where s2.cName <> s1.cName)]\n",
      "(Background on this error at: http://sqlalche.me/e/e3q8)\n"
     ]
    }
   ],
   "source": [
    "%%sql\n",
    "select cName from College s1\n",
    "          where not enrollment <= any (select enrollment from College s2 where s2.cName <> s1.cName)"
   ]
  },
  {
   "cell_type": "code",
   "execution_count": null,
   "metadata": {},
   "outputs": [],
   "source": [
    "#4) Students who have applied to Major in CS but not to EE"
   ]
  },
  {
   "cell_type": "code",
   "execution_count": 28,
   "metadata": {},
   "outputs": [
    {
     "name": "stdout",
     "output_type": "stream",
     "text": [
      " * sqlite:///College.db\n",
      "(sqlite3.OperationalError) near \"select\": syntax error\n",
      "[SQL: Select sID, sName from Student where sID =  any (select sID from Apply where major = 'cs')\n",
      "                               and   sID <> all (select sID from Apply where major = 'EE')]\n",
      "(Background on this error at: http://sqlalche.me/e/e3q8)\n"
     ]
    }
   ],
   "source": [
    "%%sql\n",
    "Select sID, sName from Student where sID =  any (select sID from Apply where major = 'cs')\n",
    "                               and   sID <> all (select sID from Apply where major = 'EE')      "
   ]
  },
  {
   "cell_type": "code",
   "execution_count": null,
   "metadata": {},
   "outputs": [],
   "source": [
    "----------------------------------------------------------------------\n",
    "Sub queries in from and select\n",
    "----------------------------------------------------------------------"
   ]
  },
  {
   "cell_type": "code",
   "execution_count": 32,
   "metadata": {},
   "outputs": [
    {
     "name": "stdout",
     "output_type": "stream",
     "text": [
      " * sqlite:///College.db\n",
      "Done.\n"
     ]
    },
    {
     "data": {
      "text/html": [
       "<table>\n",
       "    <tr>\n",
       "        <th>sID</th>\n",
       "        <th>sName</th>\n",
       "        <th>GPA</th>\n",
       "        <th>scaledGPA</th>\n",
       "    </tr>\n",
       "    <tr>\n",
       "        <td>234</td>\n",
       "        <td>Bob</td>\n",
       "        <td>3.6</td>\n",
       "        <td>5.4</td>\n",
       "    </tr>\n",
       "    <tr>\n",
       "        <td>345</td>\n",
       "        <td>Craig</td>\n",
       "        <td>3.5</td>\n",
       "        <td>1.75</td>\n",
       "    </tr>\n",
       "    <tr>\n",
       "        <td>567</td>\n",
       "        <td>Edward</td>\n",
       "        <td>2.9</td>\n",
       "        <td>5.8</td>\n",
       "    </tr>\n",
       "    <tr>\n",
       "        <td>678</td>\n",
       "        <td>Fay</td>\n",
       "        <td>3.8</td>\n",
       "        <td>0.76</td>\n",
       "    </tr>\n",
       "    <tr>\n",
       "        <td>876</td>\n",
       "        <td>Irene</td>\n",
       "        <td>3.9</td>\n",
       "        <td>1.56</td>\n",
       "    </tr>\n",
       "    <tr>\n",
       "        <td>765</td>\n",
       "        <td>Jay</td>\n",
       "        <td>2.9</td>\n",
       "        <td>4.35</td>\n",
       "    </tr>\n",
       "    <tr>\n",
       "        <td>543</td>\n",
       "        <td>Craig</td>\n",
       "        <td>3.4</td>\n",
       "        <td>6.8</td>\n",
       "    </tr>\n",
       "</table>"
      ],
      "text/plain": [
       "[(234, 'Bob', 3.6, 5.4),\n",
       " (345, 'Craig', 3.5, 1.75),\n",
       " (567, 'Edward', 2.9, 5.8),\n",
       " (678, 'Fay', 3.8, 0.76),\n",
       " (876, 'Irene', 3.9, 1.56),\n",
       " (765, 'Jay', 2.9, 4.35),\n",
       " (543, 'Craig', 3.4, 6.8)]"
      ]
     },
     "execution_count": 32,
     "metadata": {},
     "output_type": "execute_result"
    }
   ],
   "source": [
    "%%sql\n",
    "select * from (select sID, sName, GPA, GPA*(sizeHS/1000.0) as scaledGPA from Student) G where abs(G.scaledGPA-GPA) > 1.0 "
   ]
  },
  {
   "cell_type": "code",
   "execution_count": null,
   "metadata": {},
   "outputs": [],
   "source": [
    "#5) Colleges paired with highest GPA of their applicants"
   ]
  },
  {
   "cell_type": "code",
   "execution_count": 42,
   "metadata": {},
   "outputs": [
    {
     "name": "stdout",
     "output_type": "stream",
     "text": [
      " * sqlite:///College.db\n",
      "(sqlite3.OperationalError) near \"all\": syntax error\n",
      "[SQL: select distinct College.cName, state, GPA from College, Apply, Student where College.cName=Apply.cName and \n",
      "                                                                                  Apply.sID=Student.sID and\n",
      "                                                                                GPA >= all  ( select GPA from Student, Apply where Student.sID = Apply.sID and\n",
      "                                                                                             Apply.cName = College.cName)]\n",
      "(Background on this error at: http://sqlalche.me/e/e3q8)\n"
     ]
    }
   ],
   "source": [
    "%%sql\n",
    "select distinct College.cName, state, GPA from College, Apply, Student where College.cName=Apply.cName and \n",
    "                                                                                  Apply.sID=Student.sID and\n",
    "                                                                                GPA >= all  ( select GPA from Student, Apply where Student.sID = Apply.sID and\n",
    "                                                                                             Apply.cName = College.cName)"
   ]
  },
  {
   "cell_type": "code",
   "execution_count": null,
   "metadata": {},
   "outputs": [],
   "source": [
    "#6)Writing the above qery with sub query in the select clause"
   ]
  },
  {
   "cell_type": "code",
   "execution_count": 56,
   "metadata": {},
   "outputs": [
    {
     "name": "stdout",
     "output_type": "stream",
     "text": [
      " * sqlite:///College.db\n",
      "(sqlite3.OperationalError) near \"all\": syntax error\n",
      "[SQL: select cName, state,(select distinct GPA from Apply, Student where College.cName=Apply.cName and \n",
      "                     Apply.sID=College.sID and GPA >=all (select GPA from Students where Student.sID=Apply.sID and Apply.cName = College.cName) as GPA \n",
      " from college]\n",
      "(Background on this error at: http://sqlalche.me/e/e3q8)\n"
     ]
    }
   ],
   "source": [
    "%%sql\n",
    "select cName, state,(select distinct GPA from Apply, Student where College.cName=Apply.cName and \n",
    "                     Apply.sID=College.sID and GPA >=all (select GPA from Students where Student.sID=Apply.sID and Apply.cName = College.cName) as GPA \n",
    " from college"
   ]
  },
  {
   "cell_type": "code",
   "execution_count": null,
   "metadata": {},
   "outputs": [],
   "source": [
    "#------------------------------------------------------------------------\n",
    "#The Join Family operators \n",
    "#------------------------------------------------------------------------"
   ]
  },
  {
   "cell_type": "code",
   "execution_count": 58,
   "metadata": {},
   "outputs": [
    {
     "name": "stdout",
     "output_type": "stream",
     "text": [
      " * sqlite:///College.db\n",
      "Done.\n"
     ]
    },
    {
     "data": {
      "text/html": [
       "<table>\n",
       "    <tr>\n",
       "        <th>sName</th>\n",
       "        <th>major</th>\n",
       "    </tr>\n",
       "    <tr>\n",
       "        <td>Amy</td>\n",
       "        <td>CS</td>\n",
       "    </tr>\n",
       "    <tr>\n",
       "        <td>Amy</td>\n",
       "        <td>EE</td>\n",
       "    </tr>\n",
       "    <tr>\n",
       "        <td>Bob</td>\n",
       "        <td>biology</td>\n",
       "    </tr>\n",
       "    <tr>\n",
       "        <td>Craig</td>\n",
       "        <td>CS</td>\n",
       "    </tr>\n",
       "    <tr>\n",
       "        <td>Craig</td>\n",
       "        <td>EE</td>\n",
       "    </tr>\n",
       "    <tr>\n",
       "        <td>Craig</td>\n",
       "        <td>bioengineering</td>\n",
       "    </tr>\n",
       "    <tr>\n",
       "        <td>Fay</td>\n",
       "        <td>history</td>\n",
       "    </tr>\n",
       "    <tr>\n",
       "        <td>Helen</td>\n",
       "        <td>CS</td>\n",
       "    </tr>\n",
       "    <tr>\n",
       "        <td>Irene</td>\n",
       "        <td>CS</td>\n",
       "    </tr>\n",
       "    <tr>\n",
       "        <td>Irene</td>\n",
       "        <td>biology</td>\n",
       "    </tr>\n",
       "    <tr>\n",
       "        <td>Irene</td>\n",
       "        <td>marine biology</td>\n",
       "    </tr>\n",
       "    <tr>\n",
       "        <td>Jay</td>\n",
       "        <td>history</td>\n",
       "    </tr>\n",
       "    <tr>\n",
       "        <td>Jay</td>\n",
       "        <td>psychology</td>\n",
       "    </tr>\n",
       "</table>"
      ],
      "text/plain": [
       "[('Amy', 'CS'),\n",
       " ('Amy', 'EE'),\n",
       " ('Bob', 'biology'),\n",
       " ('Craig', 'CS'),\n",
       " ('Craig', 'EE'),\n",
       " ('Craig', 'bioengineering'),\n",
       " ('Fay', 'history'),\n",
       " ('Helen', 'CS'),\n",
       " ('Irene', 'CS'),\n",
       " ('Irene', 'biology'),\n",
       " ('Irene', 'marine biology'),\n",
       " ('Jay', 'history'),\n",
       " ('Jay', 'psychology')]"
      ]
     },
     "execution_count": 58,
     "metadata": {},
     "output_type": "execute_result"
    }
   ],
   "source": [
    "%%sql\n",
    "select distinct sName, major from student, Apply where Student.sID=Apply.sID"
   ]
  },
  {
   "cell_type": "code",
   "execution_count": 60,
   "metadata": {},
   "outputs": [],
   "source": [
    "#Equivalent theta join as follows\n",
    "#--------------------------------"
   ]
  },
  {
   "cell_type": "code",
   "execution_count": 62,
   "metadata": {},
   "outputs": [
    {
     "name": "stdout",
     "output_type": "stream",
     "text": [
      " * sqlite:///College.db\n",
      "Done.\n"
     ]
    },
    {
     "data": {
      "text/html": [
       "<table>\n",
       "    <tr>\n",
       "        <th>sName</th>\n",
       "        <th>major</th>\n",
       "    </tr>\n",
       "    <tr>\n",
       "        <td>Amy</td>\n",
       "        <td>CS</td>\n",
       "    </tr>\n",
       "    <tr>\n",
       "        <td>Amy</td>\n",
       "        <td>EE</td>\n",
       "    </tr>\n",
       "    <tr>\n",
       "        <td>Bob</td>\n",
       "        <td>biology</td>\n",
       "    </tr>\n",
       "    <tr>\n",
       "        <td>Craig</td>\n",
       "        <td>CS</td>\n",
       "    </tr>\n",
       "    <tr>\n",
       "        <td>Craig</td>\n",
       "        <td>EE</td>\n",
       "    </tr>\n",
       "    <tr>\n",
       "        <td>Craig</td>\n",
       "        <td>bioengineering</td>\n",
       "    </tr>\n",
       "    <tr>\n",
       "        <td>Fay</td>\n",
       "        <td>history</td>\n",
       "    </tr>\n",
       "    <tr>\n",
       "        <td>Helen</td>\n",
       "        <td>CS</td>\n",
       "    </tr>\n",
       "    <tr>\n",
       "        <td>Irene</td>\n",
       "        <td>CS</td>\n",
       "    </tr>\n",
       "    <tr>\n",
       "        <td>Irene</td>\n",
       "        <td>biology</td>\n",
       "    </tr>\n",
       "    <tr>\n",
       "        <td>Irene</td>\n",
       "        <td>marine biology</td>\n",
       "    </tr>\n",
       "    <tr>\n",
       "        <td>Jay</td>\n",
       "        <td>history</td>\n",
       "    </tr>\n",
       "    <tr>\n",
       "        <td>Jay</td>\n",
       "        <td>psychology</td>\n",
       "    </tr>\n",
       "</table>"
      ],
      "text/plain": [
       "[('Amy', 'CS'),\n",
       " ('Amy', 'EE'),\n",
       " ('Bob', 'biology'),\n",
       " ('Craig', 'CS'),\n",
       " ('Craig', 'EE'),\n",
       " ('Craig', 'bioengineering'),\n",
       " ('Fay', 'history'),\n",
       " ('Helen', 'CS'),\n",
       " ('Irene', 'CS'),\n",
       " ('Irene', 'biology'),\n",
       " ('Irene', 'marine biology'),\n",
       " ('Jay', 'history'),\n",
       " ('Jay', 'psychology')]"
      ]
     },
     "execution_count": 62,
     "metadata": {},
     "output_type": "execute_result"
    }
   ],
   "source": [
    "%%sql\n",
    "select distinct sName, major from student\n",
    "               inner join\n",
    "               Apply on Student.sID=Apply.sID;"
   ]
  },
  {
   "cell_type": "code",
   "execution_count": 65,
   "metadata": {},
   "outputs": [
    {
     "name": "stdout",
     "output_type": "stream",
     "text": [
      " * sqlite:///College.db\n",
      "Done.\n"
     ]
    },
    {
     "data": {
      "text/html": [
       "<table>\n",
       "    <tr>\n",
       "        <th>sName</th>\n",
       "        <th>sID</th>\n",
       "        <th>cName</th>\n",
       "        <th>major</th>\n",
       "    </tr>\n",
       "    <tr>\n",
       "        <td>Amy</td>\n",
       "        <td>123</td>\n",
       "        <td>Berkeley</td>\n",
       "        <td>CS</td>\n",
       "    </tr>\n",
       "    <tr>\n",
       "        <td>Amy</td>\n",
       "        <td>123</td>\n",
       "        <td>Cornell</td>\n",
       "        <td>EE</td>\n",
       "    </tr>\n",
       "    <tr>\n",
       "        <td>Amy</td>\n",
       "        <td>123</td>\n",
       "        <td>Stanford</td>\n",
       "        <td>CS</td>\n",
       "    </tr>\n",
       "    <tr>\n",
       "        <td>Amy</td>\n",
       "        <td>123</td>\n",
       "        <td>Stanford</td>\n",
       "        <td>EE</td>\n",
       "    </tr>\n",
       "    <tr>\n",
       "        <td>Bob</td>\n",
       "        <td>234</td>\n",
       "        <td>Berkeley</td>\n",
       "        <td>biology</td>\n",
       "    </tr>\n",
       "    <tr>\n",
       "        <td>Craig</td>\n",
       "        <td>345</td>\n",
       "        <td>Cornell</td>\n",
       "        <td>CS</td>\n",
       "    </tr>\n",
       "    <tr>\n",
       "        <td>Craig</td>\n",
       "        <td>345</td>\n",
       "        <td>Cornell</td>\n",
       "        <td>EE</td>\n",
       "    </tr>\n",
       "    <tr>\n",
       "        <td>Craig</td>\n",
       "        <td>345</td>\n",
       "        <td>Cornell</td>\n",
       "        <td>bioengineering</td>\n",
       "    </tr>\n",
       "    <tr>\n",
       "        <td>Craig</td>\n",
       "        <td>345</td>\n",
       "        <td>MIT</td>\n",
       "        <td>bioengineering</td>\n",
       "    </tr>\n",
       "    <tr>\n",
       "        <td>Doris</td>\n",
       "        <td>456</td>\n",
       "        <td>None</td>\n",
       "        <td>None</td>\n",
       "    </tr>\n",
       "    <tr>\n",
       "        <td>Edward</td>\n",
       "        <td>567</td>\n",
       "        <td>None</td>\n",
       "        <td>None</td>\n",
       "    </tr>\n",
       "    <tr>\n",
       "        <td>Fay</td>\n",
       "        <td>678</td>\n",
       "        <td>Stanford</td>\n",
       "        <td>history</td>\n",
       "    </tr>\n",
       "    <tr>\n",
       "        <td>Gary</td>\n",
       "        <td>789</td>\n",
       "        <td>None</td>\n",
       "        <td>None</td>\n",
       "    </tr>\n",
       "    <tr>\n",
       "        <td>Helen</td>\n",
       "        <td>987</td>\n",
       "        <td>Berkeley</td>\n",
       "        <td>CS</td>\n",
       "    </tr>\n",
       "    <tr>\n",
       "        <td>Helen</td>\n",
       "        <td>987</td>\n",
       "        <td>Stanford</td>\n",
       "        <td>CS</td>\n",
       "    </tr>\n",
       "    <tr>\n",
       "        <td>Irene</td>\n",
       "        <td>876</td>\n",
       "        <td>MIT</td>\n",
       "        <td>biology</td>\n",
       "    </tr>\n",
       "    <tr>\n",
       "        <td>Irene</td>\n",
       "        <td>876</td>\n",
       "        <td>MIT</td>\n",
       "        <td>marine biology</td>\n",
       "    </tr>\n",
       "    <tr>\n",
       "        <td>Irene</td>\n",
       "        <td>876</td>\n",
       "        <td>Stanford</td>\n",
       "        <td>CS</td>\n",
       "    </tr>\n",
       "    <tr>\n",
       "        <td>Jay</td>\n",
       "        <td>765</td>\n",
       "        <td>Cornell</td>\n",
       "        <td>history</td>\n",
       "    </tr>\n",
       "    <tr>\n",
       "        <td>Jay</td>\n",
       "        <td>765</td>\n",
       "        <td>Cornell</td>\n",
       "        <td>psychology</td>\n",
       "    </tr>\n",
       "    <tr>\n",
       "        <td>Jay</td>\n",
       "        <td>765</td>\n",
       "        <td>Stanford</td>\n",
       "        <td>history</td>\n",
       "    </tr>\n",
       "    <tr>\n",
       "        <td>Amy</td>\n",
       "        <td>654</td>\n",
       "        <td>None</td>\n",
       "        <td>None</td>\n",
       "    </tr>\n",
       "    <tr>\n",
       "        <td>Craig</td>\n",
       "        <td>543</td>\n",
       "        <td>MIT</td>\n",
       "        <td>CS</td>\n",
       "    </tr>\n",
       "</table>"
      ],
      "text/plain": [
       "[('Amy', 123, 'Berkeley', 'CS'),\n",
       " ('Amy', 123, 'Cornell', 'EE'),\n",
       " ('Amy', 123, 'Stanford', 'CS'),\n",
       " ('Amy', 123, 'Stanford', 'EE'),\n",
       " ('Bob', 234, 'Berkeley', 'biology'),\n",
       " ('Craig', 345, 'Cornell', 'CS'),\n",
       " ('Craig', 345, 'Cornell', 'EE'),\n",
       " ('Craig', 345, 'Cornell', 'bioengineering'),\n",
       " ('Craig', 345, 'MIT', 'bioengineering'),\n",
       " ('Doris', 456, None, None),\n",
       " ('Edward', 567, None, None),\n",
       " ('Fay', 678, 'Stanford', 'history'),\n",
       " ('Gary', 789, None, None),\n",
       " ('Helen', 987, 'Berkeley', 'CS'),\n",
       " ('Helen', 987, 'Stanford', 'CS'),\n",
       " ('Irene', 876, 'MIT', 'biology'),\n",
       " ('Irene', 876, 'MIT', 'marine biology'),\n",
       " ('Irene', 876, 'Stanford', 'CS'),\n",
       " ('Jay', 765, 'Cornell', 'history'),\n",
       " ('Jay', 765, 'Cornell', 'psychology'),\n",
       " ('Jay', 765, 'Stanford', 'history'),\n",
       " ('Amy', 654, None, None),\n",
       " ('Craig', 543, 'MIT', 'CS')]"
      ]
     },
     "execution_count": 65,
     "metadata": {},
     "output_type": "execute_result"
    }
   ],
   "source": [
    "%%sql\n",
    "select sName, sID, cName, major from Student left join Apply using(sID)"
   ]
  },
  {
   "cell_type": "code",
   "execution_count": null,
   "metadata": {},
   "outputs": [],
   "source": [
    "#Equivalent with out join\n",
    "#---------------------------------"
   ]
  },
  {
   "cell_type": "code",
   "execution_count": 69,
   "metadata": {},
   "outputs": [
    {
     "name": "stdout",
     "output_type": "stream",
     "text": [
      " * sqlite:///College.db\n",
      "Done.\n"
     ]
    },
    {
     "data": {
      "text/html": [
       "<table>\n",
       "    <tr>\n",
       "        <th>sName</th>\n",
       "        <th>sID</th>\n",
       "        <th>cName</th>\n",
       "        <th>major</th>\n",
       "    </tr>\n",
       "    <tr>\n",
       "        <td>Amy</td>\n",
       "        <td>123</td>\n",
       "        <td>Berkeley</td>\n",
       "        <td>CS</td>\n",
       "    </tr>\n",
       "    <tr>\n",
       "        <td>Amy</td>\n",
       "        <td>123</td>\n",
       "        <td>Cornell</td>\n",
       "        <td>EE</td>\n",
       "    </tr>\n",
       "    <tr>\n",
       "        <td>Amy</td>\n",
       "        <td>123</td>\n",
       "        <td>Stanford</td>\n",
       "        <td>CS</td>\n",
       "    </tr>\n",
       "    <tr>\n",
       "        <td>Amy</td>\n",
       "        <td>123</td>\n",
       "        <td>Stanford</td>\n",
       "        <td>EE</td>\n",
       "    </tr>\n",
       "    <tr>\n",
       "        <td>Amy</td>\n",
       "        <td>654</td>\n",
       "        <td>None</td>\n",
       "        <td>None</td>\n",
       "    </tr>\n",
       "    <tr>\n",
       "        <td>Bob</td>\n",
       "        <td>234</td>\n",
       "        <td>Berkeley</td>\n",
       "        <td>biology</td>\n",
       "    </tr>\n",
       "    <tr>\n",
       "        <td>Craig</td>\n",
       "        <td>345</td>\n",
       "        <td>Cornell</td>\n",
       "        <td>CS</td>\n",
       "    </tr>\n",
       "    <tr>\n",
       "        <td>Craig</td>\n",
       "        <td>345</td>\n",
       "        <td>Cornell</td>\n",
       "        <td>EE</td>\n",
       "    </tr>\n",
       "    <tr>\n",
       "        <td>Craig</td>\n",
       "        <td>345</td>\n",
       "        <td>Cornell</td>\n",
       "        <td>bioengineering</td>\n",
       "    </tr>\n",
       "    <tr>\n",
       "        <td>Craig</td>\n",
       "        <td>345</td>\n",
       "        <td>MIT</td>\n",
       "        <td>bioengineering</td>\n",
       "    </tr>\n",
       "    <tr>\n",
       "        <td>Craig</td>\n",
       "        <td>543</td>\n",
       "        <td>MIT</td>\n",
       "        <td>CS</td>\n",
       "    </tr>\n",
       "    <tr>\n",
       "        <td>Doris</td>\n",
       "        <td>456</td>\n",
       "        <td>None</td>\n",
       "        <td>None</td>\n",
       "    </tr>\n",
       "    <tr>\n",
       "        <td>Edward</td>\n",
       "        <td>567</td>\n",
       "        <td>None</td>\n",
       "        <td>None</td>\n",
       "    </tr>\n",
       "    <tr>\n",
       "        <td>Fay</td>\n",
       "        <td>678</td>\n",
       "        <td>Stanford</td>\n",
       "        <td>history</td>\n",
       "    </tr>\n",
       "    <tr>\n",
       "        <td>Gary</td>\n",
       "        <td>789</td>\n",
       "        <td>None</td>\n",
       "        <td>None</td>\n",
       "    </tr>\n",
       "    <tr>\n",
       "        <td>Helen</td>\n",
       "        <td>987</td>\n",
       "        <td>Berkeley</td>\n",
       "        <td>CS</td>\n",
       "    </tr>\n",
       "    <tr>\n",
       "        <td>Helen</td>\n",
       "        <td>987</td>\n",
       "        <td>Stanford</td>\n",
       "        <td>CS</td>\n",
       "    </tr>\n",
       "    <tr>\n",
       "        <td>Irene</td>\n",
       "        <td>876</td>\n",
       "        <td>MIT</td>\n",
       "        <td>biology</td>\n",
       "    </tr>\n",
       "    <tr>\n",
       "        <td>Irene</td>\n",
       "        <td>876</td>\n",
       "        <td>MIT</td>\n",
       "        <td>marine biology</td>\n",
       "    </tr>\n",
       "    <tr>\n",
       "        <td>Irene</td>\n",
       "        <td>876</td>\n",
       "        <td>Stanford</td>\n",
       "        <td>CS</td>\n",
       "    </tr>\n",
       "    <tr>\n",
       "        <td>Jay</td>\n",
       "        <td>765</td>\n",
       "        <td>Cornell</td>\n",
       "        <td>history</td>\n",
       "    </tr>\n",
       "    <tr>\n",
       "        <td>Jay</td>\n",
       "        <td>765</td>\n",
       "        <td>Cornell</td>\n",
       "        <td>psychology</td>\n",
       "    </tr>\n",
       "    <tr>\n",
       "        <td>Jay</td>\n",
       "        <td>765</td>\n",
       "        <td>Stanford</td>\n",
       "        <td>history</td>\n",
       "    </tr>\n",
       "</table>"
      ],
      "text/plain": [
       "[('Amy', 123, 'Berkeley', 'CS'),\n",
       " ('Amy', 123, 'Cornell', 'EE'),\n",
       " ('Amy', 123, 'Stanford', 'CS'),\n",
       " ('Amy', 123, 'Stanford', 'EE'),\n",
       " ('Amy', 654, None, None),\n",
       " ('Bob', 234, 'Berkeley', 'biology'),\n",
       " ('Craig', 345, 'Cornell', 'CS'),\n",
       " ('Craig', 345, 'Cornell', 'EE'),\n",
       " ('Craig', 345, 'Cornell', 'bioengineering'),\n",
       " ('Craig', 345, 'MIT', 'bioengineering'),\n",
       " ('Craig', 543, 'MIT', 'CS'),\n",
       " ('Doris', 456, None, None),\n",
       " ('Edward', 567, None, None),\n",
       " ('Fay', 678, 'Stanford', 'history'),\n",
       " ('Gary', 789, None, None),\n",
       " ('Helen', 987, 'Berkeley', 'CS'),\n",
       " ('Helen', 987, 'Stanford', 'CS'),\n",
       " ('Irene', 876, 'MIT', 'biology'),\n",
       " ('Irene', 876, 'MIT', 'marine biology'),\n",
       " ('Irene', 876, 'Stanford', 'CS'),\n",
       " ('Jay', 765, 'Cornell', 'history'),\n",
       " ('Jay', 765, 'Cornell', 'psychology'),\n",
       " ('Jay', 765, 'Stanford', 'history')]"
      ]
     },
     "execution_count": 69,
     "metadata": {},
     "output_type": "execute_result"
    }
   ],
   "source": [
    "%%sql\n",
    "select sName, Student.sID, cName, major\n",
    "from Student, Apply\n",
    "where Student.sID=Apply.sID\n",
    "\n",
    "union\n",
    "\n",
    "select sName, sID, NULL, NULL \n",
    "from Student\n",
    "where sID not in(select sID from Apply)"
   ]
  },
  {
   "cell_type": "code",
   "execution_count": null,
   "metadata": {},
   "outputs": [],
   "source": [
    "#inner join is commutative outer join is not\n",
    "#inner join is associative outer join is not"
   ]
  }
 ],
 "metadata": {
  "kernelspec": {
   "display_name": "Python 3",
   "language": "python",
   "name": "python3"
  },
  "language_info": {
   "codemirror_mode": {
    "name": "ipython",
    "version": 3
   },
   "file_extension": ".py",
   "mimetype": "text/x-python",
   "name": "python",
   "nbconvert_exporter": "python",
   "pygments_lexer": "ipython3",
   "version": "3.6.2"
  }
 },
 "nbformat": 4,
 "nbformat_minor": 2
}
